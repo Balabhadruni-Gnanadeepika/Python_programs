{
 "cells": [
  {
   "cell_type": "markdown",
   "id": "e6bfa0f3-4e5a-44d9-b0e5-3da2c056c787",
   "metadata": {},
   "source": [
    "# Program 1\n",
    " Name of the Restaurant is Vamsi Restaurant and it has both veg items and non-veg items in the menu. Let's take min five veg items and five non veg items and if a coustumer ask one item then, we have to check in the menu it has those items or not if it is there in the menu then we have to get an output  \"ok your order is noted, please wait few mins we will serve it\".If the item asked by the customer is not in menu then the output is \"sry, we don't have that item \". "
   ]
  },
  {
   "cell_type": "code",
   "execution_count": 2,
   "id": "5928a822-ea7e-4f87-a8fc-114a4cac5cae",
   "metadata": {},
   "outputs": [
    {
     "name": "stdout",
     "output_type": "stream",
     "text": [
      "Vamsi Restaurant\n"
     ]
    },
    {
     "name": "stdin",
     "output_type": "stream",
     "text": [
      " curry\n"
     ]
    },
    {
     "name": "stdout",
     "output_type": "stream",
     "text": [
      "sry, we don't have the item curry\n"
     ]
    }
   ],
   "source": [
    "# Vamsi Restaurant\n",
    "Restaurant_name = \"Vamsi Restaurant\"\n",
    "print(Restaurant_name)\n",
    "Veg_menu = [ \"veg manchuriya\", \"Paneer butter masala\",\" Paneer Tikka\", \"meal maker\",\"Veg Biriyani\", \"guttivankaya Pulav\",\"Allu capsicums\",\"Paneer Biriyani\"]\n",
    "Non_veg_menu = [ \"Mutton gosh\",\"paya soup\",\"Egg bujji\",\"Fish fry\",\"butter chicken\",\"Prawns pullav\",\"Thandhoory chicken\",\"chicken cola purry\",\"Country side chicken\",\"chicken Biriyani\"]\n",
    "Item_name = input()\n",
    "if Item_name in Veg_menu:\n",
    "    print(\"ok your order is noted, please wait few mins we will serve it.\")\n",
    "elif Item_name in Non_veg_menu:\n",
    "    print(\"ok your order is noted, please wait few mins we will serve it.\")\n",
    "else:\n",
    "    print(\"sry, we don't have the item\",Item_name)"
   ]
  },
  {
   "cell_type": "code",
   "execution_count": null,
   "id": "7ad92e4e-7171-4ef7-8a34-644183932f30",
   "metadata": {},
   "outputs": [],
   "source": []
  }
 ],
 "metadata": {
  "kernelspec": {
   "display_name": "Python 3 (ipykernel)",
   "language": "python",
   "name": "python3"
  },
  "language_info": {
   "codemirror_mode": {
    "name": "ipython",
    "version": 3
   },
   "file_extension": ".py",
   "mimetype": "text/x-python",
   "name": "python",
   "nbconvert_exporter": "python",
   "pygments_lexer": "ipython3",
   "version": "3.11.7"
  }
 },
 "nbformat": 4,
 "nbformat_minor": 5
}
