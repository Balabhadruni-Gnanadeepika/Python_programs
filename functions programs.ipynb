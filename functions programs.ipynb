{
 "cells": [
  {
   "cell_type": "code",
   "execution_count": 14,
   "id": "e064dccc-5d64-42fc-a731-10d5057a2d4f",
   "metadata": {},
   "outputs": [
    {
     "name": "stdout",
     "output_type": "stream",
     "text": [
      "68\n"
     ]
    }
   ],
   "source": [
    "def n():\n",
    "    n=68\n",
    "    if n==n:\n",
    "        print(n)\n",
    "n()"
   ]
  },
  {
   "cell_type": "code",
   "execution_count": 17,
   "id": "ad07cec9-790b-463b-9d5e-cae1e6f38425",
   "metadata": {},
   "outputs": [
    {
     "name": "stdout",
     "output_type": "stream",
     "text": [
      "your lucky num  is positive  8\n"
     ]
    }
   ],
   "source": [
    "def num(n):\n",
    "    if n==0 :\n",
    "        print(\"your lucky num is zero \",n)\n",
    "    elif n<0 :\n",
    "        print(\"your lucky num is negative \",n)\n",
    "    else:\n",
    "        print(\"your lucky num  is positive \",n)\n",
    "num(8)"
   ]
  },
  {
   "cell_type": "code",
   "execution_count": 23,
   "id": "58d00ebd-d22c-4a27-971e-5e38bd21a7aa",
   "metadata": {},
   "outputs": [
    {
     "name": "stdout",
     "output_type": "stream",
     "text": [
      "my lucky number is  6\n"
     ]
    }
   ],
   "source": [
    "def lucky(n) :\n",
    "    if n>0:\n",
    "        print(\"my lucky number is \", n)\n",
    "lucky(6)"
   ]
  },
  {
   "cell_type": "code",
   "execution_count": 25,
   "id": "6c4c1dd0-c6cf-4bea-be1e-c82e23c09518",
   "metadata": {},
   "outputs": [
    {
     "name": "stdout",
     "output_type": "stream",
     "text": [
      "Vamsi Restaurant\n"
     ]
    },
    {
     "name": "stdin",
     "output_type": "stream",
     "text": [
      " egg\n"
     ]
    },
    {
     "name": "stdout",
     "output_type": "stream",
     "text": [
      "sry, we don't have the item egg\n"
     ]
    }
   ],
   "source": [
    "def restaurant(Restaurant_name):\n",
    "    print(Restaurant_name)\n",
    "    Veg_menu = [ \"veg manchuriya\", \"Paneer butter masala\",\" Paneer Tikka\", \"meal maker\",\"Veg Biriyani\", \"guttivankaya Pulav\",\"Allu capsicums\",\"Paneer Biriyani\"]\n",
    "    Non_veg_menu = [ \"Mutton gosh\",\"paya soup\",\"Egg bujji\",\"Fish fry\",\"butter chicken\",\"Prawns pullav\",\"Thandhoory chicken\",\"chicken cola purry\",\"Country side chicken\",\"chicken Biriyani\"]\n",
    "    Item_name = input()\n",
    "    if Item_name in Veg_menu:\n",
    "        print(\"ok your order is noted, please wait few mins we will serve it.\")\n",
    "    elif Item_name in Non_veg_menu:\n",
    "        print(\"ok your order is noted, please wait few mins we will serve it.\")\n",
    "    else:\n",
    "        print(\"sry, we don't have the item\",Item_name)\n",
    "restaurant(\"Vamsi Restaurant\")"
   ]
  },
  {
   "cell_type": "code",
   "execution_count": 27,
   "id": "1ec04805-b3e6-4824-a663-ef8f1f0f8404",
   "metadata": {},
   "outputs": [
    {
     "name": "stdout",
     "output_type": "stream",
     "text": [
      "Suppu got 58 marks,So Suppu get grade D.\n"
     ]
    }
   ],
   "source": [
    "def grading(n,name):\n",
    "#name = input()\n",
    "    if n>50 and n<60 :\n",
    "        f_s1= f\"{name} got {n} marks,So {name} get grade D.\"  \n",
    "        print(f_s1)\n",
    "    elif n>60 and n<70 :\n",
    "        f_s2= f\"{name} got {n} marks,So {name} get grade C.\" \n",
    "        print(f_s2)\n",
    "    elif n>70 and n<80 :\n",
    "        f_s3= f\"{name} got {n} marks,So {name} get grade B.\" \n",
    "        print(f_s3)\n",
    "    elif n>80 and n<90 :\n",
    "        f_s4= f\"{name} got {n} marks,So {name} get grade A.\"\n",
    "        print(f_s4)\n",
    "    elif n>90 and n<=100:\n",
    "        f_s5= f\"{name} got {n} marks,So {name} get grade A+.\"\n",
    "        print(f_s5)\n",
    "    else :\n",
    "        print(f\"{name} got {n} marks,So {name} failed in the exam\")\n",
    "grading(58,\"Suppu\")"
   ]
  },
  {
   "cell_type": "code",
   "execution_count": 33,
   "id": "e460e2e8-bf57-4878-a415-b021451324fc",
   "metadata": {},
   "outputs": [
    {
     "name": "stdout",
     "output_type": "stream",
     "text": [
      "Your Cabine number is 1\n"
     ]
    }
   ],
   "source": [
    "def Course_cabine(stud_course):\n",
    "    Course_name_cabine={\"Data Science\" : 1, \"Data Analyst\" : 2, \"Bussiness analyst\" : 3,\"Java Fullstack \" : 4,\"Python Fullstack\" : 5}\n",
    "    if stud_course in Course_name_cabine:\n",
    "        print(\"Your Cabine number is\",Course_name_cabine.get(stud_course))\n",
    "    else:\n",
    "        print(\"this course is not conducted today\")\n",
    "Course_cabine(\"Data Science\")"
   ]
  },
  {
   "cell_type": "code",
   "execution_count": 37,
   "id": "7fcbec63-2c5d-4f2a-aeba-3c7eae810e11",
   "metadata": {},
   "outputs": [
    {
     "name": "stdout",
     "output_type": "stream",
     "text": [
      "4536 is even number\n"
     ]
    }
   ],
   "source": [
    "def even(n):\n",
    "    if n%2==0:\n",
    "        print(f\"{n} is even number\")\n",
    "    else: \n",
    "        print(f\"{n} is odd number\")\n",
    "even(4536)"
   ]
  },
  {
   "cell_type": "code",
   "execution_count": 39,
   "id": "d351a3a6-3d06-4434-a996-73c635509ac9",
   "metadata": {},
   "outputs": [
    {
     "name": "stdout",
     "output_type": "stream",
     "text": [
      "0\n",
      "1\n",
      "1\n",
      "2\n",
      "3\n",
      "5\n"
     ]
    }
   ],
   "source": [
    "def fibonnaci(n):\n",
    "    n1=0\n",
    "    print(n1)\n",
    "    n2=1\n",
    "    print(n2)\n",
    "    for i in range(2,n):\n",
    "        n3=n1+n2\n",
    "        n1=n2\n",
    "        n2=n3\n",
    "        print(n3)\n",
    "fibonnaci(6)"
   ]
  },
  {
   "cell_type": "code",
   "execution_count": 41,
   "id": "6a759b4c-0359-4048-9f4c-bd79eddd08be",
   "metadata": {},
   "outputs": [
    {
     "name": "stdout",
     "output_type": "stream",
     "text": [
      "2012 is Leap year\n"
     ]
    }
   ],
   "source": [
    "def leap_year(n):\n",
    "    if  n%400==0  :\n",
    "        print(f\"{n} is Leap year\")\n",
    "    elif n%4==0 and n%100!=0:\n",
    "        print(f\"{n} is Leap year\")\n",
    "    else:\n",
    "        print(f\"{n} is not a leap year\")\n",
    "leap_year(2012)"
   ]
  },
  {
   "cell_type": "code",
   "execution_count": 45,
   "id": "6905f114-ae90-412b-8525-0548752900f4",
   "metadata": {},
   "outputs": [
    {
     "name": "stdout",
     "output_type": "stream",
     "text": [
      "h is consonant\n"
     ]
    }
   ],
   "source": [
    "def Vowels_or_not(char):\n",
    "    vowels = ['a','e','i','o','u','A','E','I','O','U']\n",
    "    if char in vowels:\n",
    "        print(f\"{char} is vowel\")\n",
    "    else: \n",
    "        print(f\"{char} is consonant\")\n",
    "Vowels_or_not(\"h\")"
   ]
  },
  {
   "cell_type": "code",
   "execution_count": 47,
   "id": "c8490da0-4c12-4204-95ca-c8ffa8291e9e",
   "metadata": {},
   "outputs": [
    {
     "name": "stdout",
     "output_type": "stream",
     "text": [
      "789 is larger number\n"
     ]
    }
   ],
   "source": [
    "def find_large_num(n,n1,n2):\n",
    "    if n>n1 and n>n2:\n",
    "        print(f\"{n} is larger number\")\n",
    "    elif n1>n and n1>n2:\n",
    "        print(f\"{n1} is larger number\")\n",
    "    else:\n",
    "        print(f\"{n2} is larger number\")\n",
    "find_large_num(34,23,789)    "
   ]
  },
  {
   "cell_type": "code",
   "execution_count": 49,
   "id": "8ad704e5-0070-46f7-9941-946432837cdb",
   "metadata": {},
   "outputs": [
    {
     "name": "stdout",
     "output_type": "stream",
     "text": [
      "given sides form a Scalene triangle\n"
     ]
    }
   ],
   "source": [
    "def Triangles(a,b,c):\n",
    "    if a==b==c:\n",
    "        print(\"given sides form a equilateral triangle\")\n",
    "    elif a+b==c:\n",
    "        print(\"given sides form a right angle triangle\")\n",
    "    else:\n",
    "        print(\"given sides form a Scalene triangle\")\n",
    "Triangles(3,4,5)"
   ]
  },
  {
   "cell_type": "code",
   "execution_count": 51,
   "id": "138b0180-0936-4499-b5c0-52d9872353e7",
   "metadata": {},
   "outputs": [
    {
     "name": "stdout",
     "output_type": "stream",
     "text": [
      "rakesh got rejected\n",
      "radha got selected\n",
      "Sindhu got rejected\n",
      "lasya got selected\n",
      "chitti got rejected\n",
      "Deepu got selected\n"
     ]
    }
   ],
   "source": [
    "def job_selection():\n",
    "    Candidate_names = {\"rakesh\":68 ,\"radha\":80,\"Sindhu\":67 , \"lasya\": 78,\"karthik\":59,\"chitti\": 45,\"Deepu\":78}\n",
    "    for name,per in Candidate_names.items():\n",
    "        if per >= 75  and per<=90:\n",
    "            print(f\"{name} got selected\")\n",
    "        elif per <= 60 and per>=50 :\n",
    "            pass\n",
    "        else: \n",
    "            print(f\"{name} got rejected\")\n",
    "job_selection()"
   ]
  },
  {
   "cell_type": "code",
   "execution_count": null,
   "id": "30682eeb-3a77-4d69-b611-389f9b475c5f",
   "metadata": {},
   "outputs": [],
   "source": []
  }
 ],
 "metadata": {
  "kernelspec": {
   "display_name": "Python 3 (ipykernel)",
   "language": "python",
   "name": "python3"
  },
  "language_info": {
   "codemirror_mode": {
    "name": "ipython",
    "version": 3
   },
   "file_extension": ".py",
   "mimetype": "text/x-python",
   "name": "python",
   "nbconvert_exporter": "python",
   "pygments_lexer": "ipython3",
   "version": "3.11.7"
  }
 },
 "nbformat": 4,
 "nbformat_minor": 5
}
