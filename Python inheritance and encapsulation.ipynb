{
 "cells": [
  {
   "cell_type": "code",
   "execution_count": 35,
   "id": "0565183d-69ec-463c-85ba-e0bfe3a747b9",
   "metadata": {},
   "outputs": [
    {
     "name": "stdout",
     "output_type": "stream",
     "text": [
      "my phone is on and I can use it now but I need to off the phone with in 1 hr\n",
      " phone need to be on 'on' mode if we need to use the phone but right now I don't need to use it so,my phone is  in off mode\n",
      "the phone display shows different apps \n",
      " But I opened Instagram Because It is one of the mostly used app in the app gallery\n",
      "In Reels column, reels will display\n",
      "In Chats column, chats will display\n"
     ]
    }
   ],
   "source": [
    "class Mobile:\n",
    "    def __init__(self,on,off):\n",
    "        self.on=on\n",
    "        self.off=off\n",
    "    def display(self,apps):\n",
    "        self.apps=apps\n",
    "        print(\"the phone display shows different apps \")\n",
    "class Insta(Mobile):\n",
    "    def reels(self):\n",
    "        print(\"In Reels column, reels will display\")\n",
    "    def chats(self):\n",
    "        print(\"In Chats column, chats will display\")\n",
    "phone_display=Mobile(on=\"phone is on\",off=\"I need to off the phone with in 1 hr\")\n",
    "phone_display1=Mobile(on=\"phone need to be on 'on' mode if we need to use the phone\",off=\"phone is  in off mode\")\n",
    "print(f\"my {phone_display.on} and I can use it now but {phone_display.off}\")\n",
    "print(f\" {phone_display1.on} but right now I don't need to use it so,my {phone_display1.off}\")\n",
    "#-----------------\n",
    "#a=Insta(on=\"on\",off=\"off\")\n",
    "#a.reels()\n",
    "ig1=Insta(\"df\",\"kj\")\n",
    "ig1.display(\"Instagram\")\n",
    "print(f\" But I opened {ig1.apps} Because It is one of the mostly used app in the app gallery\")\n",
    "ig1.reels()\n",
    "ig1.chats()"
   ]
  },
  {
   "cell_type": "code",
   "execution_count": 9,
   "id": "a6c2a872-3903-49bf-bb35-96763cdb8948",
   "metadata": {},
   "outputs": [
    {
     "name": "stdout",
     "output_type": "stream",
     "text": [
      "Phone is on\n",
      "I mostly used Instagram\n",
      "And I moderately used WhatsApp\n",
      "phone is off\n"
     ]
    }
   ],
   "source": [
    "class Mobile:\n",
    "    def on(self):\n",
    "        print(\"Phone is on\")\n",
    "    def off(self):\n",
    "        print(\"phone is off\")\n",
    "\n",
    "class Apps(Mobile):\n",
    "    def app1(self):\n",
    "        print(\"I mostly used Instagram\")\n",
    "    def app2(self):\n",
    "        print(\"And I moderately used WhatsApp\")\n",
    "mobile=Apps()\n",
    "mobile.on()\n",
    "mobile.app1()\n",
    "mobile.app2()\n",
    "mobile.off()\n",
    "\n",
    "\n"
   ]
  },
  {
   "cell_type": "code",
   "execution_count": 11,
   "id": "f100eab9-9f08-44b1-a318-33bac27d6353",
   "metadata": {},
   "outputs": [
    {
     "name": "stdout",
     "output_type": "stream",
     "text": [
      "Ac is on\n",
      "Ac swings left and right\n",
      "Temperaturem mode is in correct mode\n",
      "Ac is off\n"
     ]
    }
   ],
   "source": [
    "class Ac:\n",
    "    def on(self):\n",
    "        print(\"Ac is on\")\n",
    "    def off(self):\n",
    "        print(\"Ac is off\")\n",
    "\n",
    "class Working(Ac):\n",
    "    def swing(self):\n",
    "        print(\"Ac swings left and right\")\n",
    "    def temp(self):\n",
    "        print(\"Temperaturem mode is in correct mode\")\n",
    "Applications=Working()\n",
    "Applications.on()\n",
    "Applications.swing()\n",
    "Applications.temp()\n",
    "Applications.off()\n"
   ]
  },
  {
   "cell_type": "code",
   "execution_count": 37,
   "id": "1583c963-f97f-4c24-ad3e-d6376eb01a03",
   "metadata": {},
   "outputs": [
    {
     "name": "stdout",
     "output_type": "stream",
     "text": [
      "Enter your acct num23456746\n",
      "Your Balance is 10,000.00\n"
     ]
    }
   ],
   "source": [
    "class Bank:\n",
    "    def __init__(self,pin,acct_num):\n",
    "        self.__pin = pin # private\n",
    "        self._acct_num = acct_num # protected\n",
    "class ATM(Bank):\n",
    "    def balance(self):\n",
    "        print(f\"Enter your acct num{self._acct_num}\")\n",
    "        print(\"Your Balance is 10,000.00\")\n",
    "\n",
    "bank=ATM(1234,23456746)\n",
    "bank.balance()"
   ]
  },
  {
   "cell_type": "code",
   "execution_count": null,
   "id": "703d9438-69ca-4e4f-8cf4-34d3947b1ed7",
   "metadata": {},
   "outputs": [],
   "source": []
  }
 ],
 "metadata": {
  "kernelspec": {
   "display_name": "Python 3 (ipykernel)",
   "language": "python",
   "name": "python3"
  },
  "language_info": {
   "codemirror_mode": {
    "name": "ipython",
    "version": 3
   },
   "file_extension": ".py",
   "mimetype": "text/x-python",
   "name": "python",
   "nbconvert_exporter": "python",
   "pygments_lexer": "ipython3",
   "version": "3.11.7"
  }
 },
 "nbformat": 4,
 "nbformat_minor": 5
}
