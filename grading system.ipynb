{
 "cells": [
  {
   "cell_type": "markdown",
   "id": "e6bfa0f3-4e5a-44d9-b0e5-3da2c056c787",
   "metadata": {},
   "source": [
    "# Program 2\n",
    "Design a grading system using f-string"
   ]
  },
  {
   "cell_type": "code",
   "execution_count": 7,
   "id": "5928a822-ea7e-4f87-a8fc-114a4cac5cae",
   "metadata": {},
   "outputs": [
    {
     "name": "stdin",
     "output_type": "stream",
     "text": [
      " 89\n",
      " deepu\n"
     ]
    },
    {
     "name": "stdout",
     "output_type": "stream",
     "text": [
      "deepu got 89 marks,So deepu get grade A.\n"
     ]
    }
   ],
   "source": [
    "n=int(input())\n",
    "name = input()\n",
    "if n>50 and n<60 :\n",
    "    f_s1= f\"{name} got {n} marks,So {name} get grade D.\"  \n",
    "    print(f_s1)\n",
    "elif n>60 and n<70 :\n",
    "    f_s2= f\"{name} got {n} marks,So {name} get grade C.\" \n",
    "    print(f_s2)\n",
    "elif n>70 and n<80 :\n",
    "    f_s3= f\"{name} got {n} marks,So {name} get grade B.\" \n",
    "    print(f_s3)\n",
    "elif n>80 and n<90 :\n",
    "    f_s4= f\"{name} got {n} marks,So {name} get grade A.\"\n",
    "    print(f_s4)\n",
    "elif n>90 and n<=100:\n",
    "    f_s5= f\"{name} got {n} marks,So {name} get grade A+.\"\n",
    "    print(f_s5)\n",
    "else :\n",
    "    print(f\"{name} got {n} marks,So {name} failed in the exam\")"
   ]
  },
  {
   "cell_type": "code",
   "execution_count": null,
   "id": "7ad92e4e-7171-4ef7-8a34-644183932f30",
   "metadata": {},
   "outputs": [],
   "source": []
  }
 ],
 "metadata": {
  "kernelspec": {
   "display_name": "Python 3 (ipykernel)",
   "language": "python",
   "name": "python3"
  },
  "language_info": {
   "codemirror_mode": {
    "name": "ipython",
    "version": 3
   },
   "file_extension": ".py",
   "mimetype": "text/x-python",
   "name": "python",
   "nbconvert_exporter": "python",
   "pygments_lexer": "ipython3",
   "version": "3.11.7"
  }
 },
 "nbformat": 4,
 "nbformat_minor": 5
}
