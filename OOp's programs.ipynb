{
 "cells": [
  {
   "cell_type": "code",
   "execution_count": 1,
   "id": "18351c60-bc85-4bc7-964c-48f428aa03dc",
   "metadata": {},
   "outputs": [
    {
     "name": "stdout",
     "output_type": "stream",
     "text": [
      "I am Deepika,my id number is 19,I am from pace clg.\n",
      "I am Supraja,my id number is 20,I am from pace clg.\n"
     ]
    }
   ],
   "source": [
    "class Sample:\n",
    "    def __init__(self,name,id,clg):\n",
    "        self.name = name\n",
    "        self.id = id\n",
    "        self.clg = clg\n",
    "data1=Sample(name=\"Deepika\",id=19,clg=\"pace\")\n",
    "data2=Sample(name=\"Supraja\",id=20,clg=\"pace\")\n",
    "print(f\"I am {data1.name},my id number is {data1.id},I am from {data1.clg} clg.\")\n",
    "print(f\"I am {data2.name},my id number is {data2.id},I am from {data2.clg} clg.\")"
   ]
  },
  {
   "cell_type": "code",
   "execution_count": 9,
   "id": "b0ac35a4-a9f5-4c62-aa5b-0f62f9820f38",
   "metadata": {},
   "outputs": [
    {
     "name": "stdout",
     "output_type": "stream",
     "text": [
      "Look mam we have fresh Mango's and,bottle gaurd's in our shop.\n",
      "Look mam we have fresh Orange's and,bitter gaurd's in our shop.\n"
     ]
    }
   ],
   "source": [
    "class Market:\n",
    "    def __init__(self,fruit,vegetable):\n",
    "        self.fruit = fruit\n",
    "        self.vegetable = vegetable\n",
    "    def __str__(self):\n",
    "        return f\"Look mam we have fresh {self.fruit}'s and,{self.vegetable}'s in our shop.\"\n",
    "shop1 = Market(fruit=\"Mango\",vegetable=\"bottle gaurd\")\n",
    "shop2 = Market(fruit=\"Orange\",vegetable=\"bitter gaurd\")\n",
    "print(shop1)\n",
    "print(shop2)"
   ]
  },
  {
   "cell_type": "code",
   "execution_count": 19,
   "id": "6f0db75c-a8d7-4c91-a66e-c93826dccf16",
   "metadata": {},
   "outputs": [
    {
     "name": "stdout",
     "output_type": "stream",
     "text": [
      "Ok! google search a route from gachibowli to Hitech city in google map's.\n",
      "Ok! google search a route from kphb to Gachibowli in Waze app.\n",
      " Finally reached your destination\n"
     ]
    }
   ],
   "source": [
    "class Route:\n",
    "    def __init__(self,place,map):\n",
    "        self.place=place\n",
    "        self.map=map\n",
    "    def destination(self):\n",
    "        print(f\" Finally reached your destination\")\n",
    "route1= Route(place=\"Hitech city\",map=\"google map's\")\n",
    "route2= Route(place=\"Gachibowli\",map=\"Waze\")\n",
    "print(f\"Ok! google search a route from gachibowli to {route1.place} in {route1.map}.\")\n",
    "print(f\"Ok! google search a route from kphb to {route2.place} in {route2.map} app.\")\n",
    "route1.destination()"
   ]
  },
  {
   "cell_type": "code",
   "execution_count": null,
   "id": "25684496-c164-49cc-8c21-10c2da1948c8",
   "metadata": {},
   "outputs": [],
   "source": []
  }
 ],
 "metadata": {
  "kernelspec": {
   "display_name": "Python 3 (ipykernel)",
   "language": "python",
   "name": "python3"
  },
  "language_info": {
   "codemirror_mode": {
    "name": "ipython",
    "version": 3
   },
   "file_extension": ".py",
   "mimetype": "text/x-python",
   "name": "python",
   "nbconvert_exporter": "python",
   "pygments_lexer": "ipython3",
   "version": "3.11.7"
  }
 },
 "nbformat": 4,
 "nbformat_minor": 5
}
