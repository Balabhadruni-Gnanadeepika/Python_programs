{
 "cells": [
  {
   "cell_type": "markdown",
   "id": "e6bfa0f3-4e5a-44d9-b0e5-3da2c056c787",
   "metadata": {},
   "source": [
    "# Program 3\n",
    "Finding the cabine of the each courses which student need to attend the class according to the courses they have joined . "
   ]
  },
  {
   "cell_type": "code",
   "execution_count": 2,
   "id": "5928a822-ea7e-4f87-a8fc-114a4cac5cae",
   "metadata": {},
   "outputs": [
    {
     "name": "stdin",
     "output_type": "stream",
     "text": [
      " Data Analyst\n"
     ]
    },
    {
     "name": "stdout",
     "output_type": "stream",
     "text": [
      "Your Cabine number is 2\n"
     ]
    }
   ],
   "source": [
    "Course_name_cabine={\"Data Science\" : 1, \"Data Analyst\" : 2, \"Bussiness analyst\" : 3,\"Java Fullstack \" : 4,\"Python Fullstack\" : 5}\n",
    "student = input()\n",
    "if student in Course_name_cabine:\n",
    "    print(\"Your Cabine number is\",Course_name_cabine.get(student))\n",
    "else:\n",
    "    print(\"this course is not conducted today\")"
   ]
  }
 ],
 "metadata": {
  "kernelspec": {
   "display_name": "Python 3 (ipykernel)",
   "language": "python",
   "name": "python3"
  },
  "language_info": {
   "codemirror_mode": {
    "name": "ipython",
    "version": 3
   },
   "file_extension": ".py",
   "mimetype": "text/x-python",
   "name": "python",
   "nbconvert_exporter": "python",
   "pygments_lexer": "ipython3",
   "version": "3.11.7"
  }
 },
 "nbformat": 4,
 "nbformat_minor": 5
}
