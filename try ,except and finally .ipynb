{
 "cells": [
  {
   "cell_type": "code",
   "execution_count": 52,
   "id": "1bcfac05-f4fc-4628-94a3-9e6c4aedb07a",
   "metadata": {},
   "outputs": [
    {
     "name": "stdin",
     "output_type": "stream",
     "text": [
      " 0\n",
      " 0\n"
     ]
    },
    {
     "name": "stdout",
     "output_type": "stream",
     "text": [
      "sum is zero or negative\n"
     ]
    }
   ],
   "source": [
    "try: \n",
    "    n1=int(input())\n",
    "    n2=int(input())\n",
    "    sum =n1+n2\n",
    "    if sum>0:\n",
    "        print(f\"Sum of {n1} and {n2} is = {sum}\")\n",
    "    else: \n",
    "        print(y)\n",
    "except:\n",
    "    print(\"sum is zero or negative\")"
   ]
  },
  {
   "cell_type": "code",
   "execution_count": 46,
   "id": "b4134f3e-4a22-42bc-87ed-93b7c152f81d",
   "metadata": {},
   "outputs": [
    {
     "name": "stdin",
     "output_type": "stream",
     "text": [
      " 2\n",
      " 3\n"
     ]
    },
    {
     "name": "stdout",
     "output_type": "stream",
     "text": [
      "result is odd number\n",
      "this will excecute\n"
     ]
    }
   ],
   "source": [
    "try: \n",
    "    e=int(input())\n",
    "    o=int(input())\n",
    "    res=e+o\n",
    "    if res % 2==0:\n",
    "        print(\" result is even number\")\n",
    "    else:\n",
    "        print(x)\n",
    "except: \n",
    "    print(\"result is odd number\")\n",
    "finally:\n",
    "    print(\"this will excecute\")"
   ]
  },
  {
   "cell_type": "code",
   "execution_count": 19,
   "id": "255a0332-1842-4970-862c-d2a5187ef709",
   "metadata": {},
   "outputs": [
    {
     "name": "stdout",
     "output_type": "stream",
     "text": [
      " Name Error: num is not defined\n"
     ]
    }
   ],
   "source": [
    "try :\n",
    "    print(num)\n",
    "except:\n",
    "    print(\" Name Error: num is not defined\")"
   ]
  },
  {
   "cell_type": "code",
   "execution_count": 21,
   "id": "b2d878a2-9f6c-4709-89bb-3cc135beb9fc",
   "metadata": {},
   "outputs": [
    {
     "name": "stdin",
     "output_type": "stream",
     "text": [
      " 3\n",
      " 5\n"
     ]
    },
    {
     "name": "stdout",
     "output_type": "stream",
     "text": [
      "perfect\n"
     ]
    }
   ],
   "source": [
    "try:\n",
    "    n=int(input())\n",
    "    d=int(input())\n",
    "    res=n/d\n",
    "    print(\"perfect\")\n",
    "except:\n",
    "    print(\"not perfect\")\n",
    "    "
   ]
  },
  {
   "cell_type": "code",
   "execution_count": 56,
   "id": "9d2d411a-7f54-4b63-96bc-30051089c1e1",
   "metadata": {},
   "outputs": [
    {
     "name": "stdin",
     "output_type": "stream",
     "text": [
      " 5\n"
     ]
    },
    {
     "name": "stdout",
     "output_type": "stream",
     "text": [
      "the result is 2.0\n",
      "this function will always execute\n"
     ]
    }
   ],
   "source": [
    "try :\n",
    "    res=10/int(input())\n",
    "except: \n",
    "    print(\" zero can't be in denominator\")\n",
    "else:\n",
    "    print(f\"the result is {res}\")\n",
    "finally:\n",
    "    print(\"this function will always execute\")"
   ]
  },
  {
   "cell_type": "code",
   "execution_count": null,
   "id": "69ec61c2-9fb7-4319-9fa8-a570c651f7db",
   "metadata": {},
   "outputs": [],
   "source": []
  }
 ],
 "metadata": {
  "kernelspec": {
   "display_name": "Python 3 (ipykernel)",
   "language": "python",
   "name": "python3"
  },
  "language_info": {
   "codemirror_mode": {
    "name": "ipython",
    "version": 3
   },
   "file_extension": ".py",
   "mimetype": "text/x-python",
   "name": "python",
   "nbconvert_exporter": "python",
   "pygments_lexer": "ipython3",
   "version": "3.11.7"
  }
 },
 "nbformat": 4,
 "nbformat_minor": 5
}
