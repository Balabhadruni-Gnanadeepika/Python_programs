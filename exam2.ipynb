{
 "cells": [
  {
   "cell_type": "markdown",
   "id": "c1f87310-aff4-4c54-96c5-f6f3b9c073fd",
   "metadata": {},
   "source": [
    "Write a Python program to reverse a string"
   ]
  },
  {
   "cell_type": "code",
   "execution_count": 33,
   "id": "ad3668a2-d9c1-403e-a3b6-ae773187a0b2",
   "metadata": {},
   "outputs": [
    {
     "name": "stdin",
     "output_type": "stream",
     "text": [
      " dee\n"
     ]
    },
    {
     "name": "stdout",
     "output_type": "stream",
     "text": [
      "eed\n"
     ]
    }
   ],
   "source": [
    "str=input()\n",
    "print(str[::-1])"
   ]
  },
  {
   "cell_type": "markdown",
   "id": "75c97697-965b-41df-bbb5-ce9ff1a0cf87",
   "metadata": {},
   "source": [
    "Write a Python program to count the frequency of each element in a list"
   ]
  },
  {
   "cell_type": "code",
   "execution_count": 68,
   "id": "60491710-0688-4486-83eb-8331a1f1d81e",
   "metadata": {},
   "outputs": [
    {
     "name": "stdout",
     "output_type": "stream",
     "text": [
      "6\n"
     ]
    }
   ],
   "source": [
    "list=[20,22,30,40,45,50]\n",
    "count=0\n",
    "for i in range(len(list)):\n",
    "    count+=1\n",
    "\n",
    "print(count)"
   ]
  },
  {
   "cell_type": "markdown",
   "id": "ddba5f66-389a-4544-88e6-045a3ff0ae54",
   "metadata": {},
   "source": [
    "Write a Python program to check if a string is a palindrome"
   ]
  },
  {
   "cell_type": "code",
   "execution_count": 74,
   "id": "eafdc333-c2a1-43af-b8f9-b3570c70d302",
   "metadata": {},
   "outputs": [
    {
     "name": "stdin",
     "output_type": "stream",
     "text": [
      " cooc\n"
     ]
    },
    {
     "name": "stdout",
     "output_type": "stream",
     "text": [
      "palindrome\n"
     ]
    }
   ],
   "source": [
    "s=input()\n",
    "if s==s[::-1] :\n",
    "    print(\"palindrome\")\n",
    "else:\n",
    "    print(\"not palindrome\")"
   ]
  },
  {
   "cell_type": "markdown",
   "id": "75aac6db-c36e-4073-a8e4-dc2881c7d0c6",
   "metadata": {},
   "source": [
    "Write a Python program to find the largest element in a list."
   ]
  },
  {
   "cell_type": "code",
   "execution_count": 35,
   "id": "fdacdf31-0c21-494e-aaae-3cfe06a154da",
   "metadata": {},
   "outputs": [
    {
     "name": "stdin",
     "output_type": "stream",
     "text": [
      " 2\n",
      " 3\n",
      " 4\n"
     ]
    },
    {
     "name": "stdout",
     "output_type": "stream",
     "text": [
      " 4 is largest number\n"
     ]
    }
   ],
   "source": [
    "n=int(input())\n",
    "n1=int(input())\n",
    "n2=int(input())\n",
    "if n>n1 and n>n2 :\n",
    "    print(f\" {n} is largest number\")\n",
    "elif n1>n and n1>n2 :\n",
    "    print(f\"{n1} is largest number\")\n",
    "else:\n",
    "    print(f\" {n2} is largest number\")"
   ]
  },
  {
   "cell_type": "markdown",
   "id": "78a0dc70-775e-4ad6-a234-c349b32c6bbb",
   "metadata": {},
   "source": [
    "Write a python program to Counting Vowels in Word."
   ]
  },
  {
   "cell_type": "code",
   "execution_count": 49,
   "id": "2c12b8f1-5721-46fd-a64e-a3280396d8ff",
   "metadata": {},
   "outputs": [
    {
     "name": "stdin",
     "output_type": "stream",
     "text": [
      " dee\n"
     ]
    },
    {
     "name": "stdout",
     "output_type": "stream",
     "text": [
      "2\n"
     ]
    }
   ],
   "source": [
    "V=input()\n",
    "c=0\n",
    "for i in range(len(V)):\n",
    "    chr =['a','A','e','E','i','I','o','O','u','U']\n",
    "    if V[i] in chr :\n",
    "        c+=1\n",
    "print(c)  "
   ]
  },
  {
   "cell_type": "markdown",
   "id": "840365d7-846f-4112-9e3e-ba868955cc54",
   "metadata": {},
   "source": [
    "Python Program to find smallest number among three."
   ]
  },
  {
   "cell_type": "code",
   "execution_count": 45,
   "id": "b17bc3b7-47fe-41b7-8770-5ce5e3fbd8d9",
   "metadata": {},
   "outputs": [
    {
     "name": "stdin",
     "output_type": "stream",
     "text": [
      " 2\n",
      " 3\n",
      " 1\n"
     ]
    },
    {
     "name": "stdout",
     "output_type": "stream",
     "text": [
      " 1 is smallest number\n"
     ]
    }
   ],
   "source": [
    "n=int(input())\n",
    "n1=int(input())\n",
    "n2=int(input())\n",
    "if n<n1 and n<n2 :\n",
    "    print(f\" {n} is smallest number\")\n",
    "elif n1<n and n1<n2 :\n",
    "    print(f\"{n1} is smallest number\")\n",
    "else:\n",
    "    print(f\" {n2} is smallest number\")"
   ]
  },
  {
   "cell_type": "markdown",
   "id": "68784d43-7a5b-4507-bf57-7e1c328715b3",
   "metadata": {},
   "source": [
    "Python program to copy one string to another string."
   ]
  },
  {
   "cell_type": "code",
   "execution_count": 58,
   "id": "8c574871-126a-4524-b320-17bbcb1652c3",
   "metadata": {},
   "outputs": [
    {
     "name": "stdin",
     "output_type": "stream",
     "text": [
      " dee\n"
     ]
    },
    {
     "name": "stdout",
     "output_type": "stream",
     "text": [
      "dee\n"
     ]
    }
   ],
   "source": [
    "str1= input()\n",
    "c=\"\"\n",
    "for i in range(len(str1)):\n",
    "    c+=str[i]\n",
    "\n",
    "print(c)"
   ]
  },
  {
   "cell_type": "markdown",
   "id": "5aab1507-f055-47be-ac6b-7c9658328e65",
   "metadata": {},
   "source": [
    "Python Program to calculate the square of a given number."
   ]
  },
  {
   "cell_type": "code",
   "execution_count": 61,
   "id": "ad0e8a71-b93a-4893-a8b9-f84ecb03cd55",
   "metadata": {},
   "outputs": [
    {
     "name": "stdin",
     "output_type": "stream",
     "text": [
      " 4\n"
     ]
    },
    {
     "name": "stdout",
     "output_type": "stream",
     "text": [
      "16\n"
     ]
    }
   ],
   "source": [
    "num=int(input())\n",
    "print(num*num)"
   ]
  },
  {
   "cell_type": "markdown",
   "id": "be5d2888-f94c-4e38-932b-fde09a15b54b",
   "metadata": {},
   "source": [
    "Write a python Program to Count the Number of Occurrences of a Character in a String"
   ]
  },
  {
   "cell_type": "code",
   "execution_count": 64,
   "id": "5d5f3421-b117-4c66-816d-c3c607a924eb",
   "metadata": {},
   "outputs": [
    {
     "name": "stdin",
     "output_type": "stream",
     "text": [
      " dee\n"
     ]
    },
    {
     "name": "stdout",
     "output_type": "stream",
     "text": [
      "3\n"
     ]
    }
   ],
   "source": [
    "str2=input()\n",
    "c=0\n",
    "for i in range(len(str2)):\n",
    "    c+=1\n",
    "print(c)"
   ]
  },
  {
   "cell_type": "code",
   "execution_count": null,
   "id": "7fc56927-baf0-4eba-9893-87724a94c631",
   "metadata": {},
   "outputs": [],
   "source": []
  }
 ],
 "metadata": {
  "kernelspec": {
   "display_name": "Python 3 (ipykernel)",
   "language": "python",
   "name": "python3"
  },
  "language_info": {
   "codemirror_mode": {
    "name": "ipython",
    "version": 3
   },
   "file_extension": ".py",
   "mimetype": "text/x-python",
   "name": "python",
   "nbconvert_exporter": "python",
   "pygments_lexer": "ipython3",
   "version": "3.11.7"
  }
 },
 "nbformat": 4,
 "nbformat_minor": 5
}
